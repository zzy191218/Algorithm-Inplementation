{
 "nbformat": 4,
 "nbformat_minor": 2,
 "metadata": {
  "language_info": {
   "name": "python",
   "codemirror_mode": {
    "name": "ipython",
    "version": 3
   },
   "version": "3.7.4-final"
  },
  "orig_nbformat": 2,
  "file_extension": ".py",
  "mimetype": "text/x-python",
  "name": "python",
  "npconvert_exporter": "python",
  "pygments_lexer": "ipython3",
  "version": 3,
  "kernelspec": {
   "name": "python3",
   "display_name": "Python 3"
  }
 },
 "cells": [
  {
   "cell_type": "code",
   "execution_count": 1,
   "metadata": {},
   "outputs": [],
   "source": [
    "import numpy as np\n",
    "import pandas as pd\n",
    "import matplotlib.pyplot as plt\n",
    "%matplotlib inline\n",
    "\n",
    "from sklearn.datasets import load_iris\n",
    "from sklearn.model_selection import train_test_split\n",
    "\n",
    "from collections import Counter\n",
    "import math"
   ]
  },
  {
   "cell_type": "code",
   "execution_count": 90,
   "metadata": {},
   "outputs": [],
   "source": [
    "import random"
   ]
  },
  {
   "cell_type": "code",
   "execution_count": 2,
   "metadata": {},
   "outputs": [],
   "source": [
    "# data\n",
    "def create_data():\n",
    "    iris = load_iris()\n",
    "    df = pd.DataFrame(iris.data, columns=iris.feature_names)\n",
    "    df['label'] = iris.target\n",
    "    df.columns = ['sepal length', 'sepal width', 'petal length', 'petal width', 'label']\n",
    "    data = np.array(df.iloc[:100, :])\n",
    "    # print(data)\n",
    "    return data[:,:-1], data[:,-1]"
   ]
  },
  {
   "cell_type": "code",
   "execution_count": 59,
   "metadata": {},
   "outputs": [],
   "source": [
    "X, y=create_data()"
   ]
  },
  {
   "cell_type": "code",
   "execution_count": 60,
   "metadata": {},
   "outputs": [],
   "source": [
    "X_train, X_test, y_train, y_test = train_test_split(X, y)"
   ]
  },
  {
   "cell_type": "code",
   "execution_count": 122,
   "metadata": {},
   "outputs": [],
   "source": [
    "class LogRegression():\n",
    "    def __init__(self, n_iter, learning_rate):\n",
    "        self.n_iter=n_iter\n",
    "        self.learning_rate=learning_rate\n",
    "\n",
    "        \n",
    "    def init_args(self, X, y): \n",
    "        self.M, self.N=X.shape\n",
    "        self.weight=np.zeros(self.N)\n",
    "        self.bias=0\n",
    "        self.cost=1000\n",
    "        pass\n",
    "\n",
    "    def sigmoid(self, x):\n",
    "        a=1/(1+np.exp(-x))\n",
    "        return a\n",
    "\n",
    "    def fit(self, X_train, y_train):\n",
    "        self.init_args(X_train, y_train)\n",
    "        \n",
    "        for epoch in range(self.n_iter):\n",
    "        \n",
    "            for i in range(len(X_train)):\n",
    "                y=self.sigmoid(np.dot(X_train[i], self.weight))\n",
    "                loss=np.abs((y_train[i]*np.log(y)+(1-y_train[i]*np.log(1-y))))\n",
    "                dz=y_train[i]-y\n",
    "                self.weight=self.weight+self.learning_rate*dz*X_train[i]\n",
    "                if loss<self.cost:\n",
    "                    self.cost=loss\n",
    "                \n",
    "\n",
    "    def predict(self, X_test):\n",
    "        predict=[]\n",
    "        for i in range(len(X_test)):\n",
    "            if self.sigmoid(np.dot(self.weight, X_test[i]))<0.5:\n",
    "                predict.append(0)\n",
    "            else: \n",
    "                predict.append(1)\n",
    "\n",
    "        return predict\n",
    "\n",
    "\n",
    "    def score(self, X_test, y_test):\n",
    "        predict=self.predict(X_test)\n",
    "        right=0\n",
    "        for i in range(len(X_test)):\n",
    "            if predict[i]==y_test[i]:\n",
    "                right+=1\n",
    "\n",
    "        return right/len(X_test)\n",
    "\n",
    "\n",
    "\n",
    "    \n",
    "\n",
    "            \n",
    "\n",
    "\n",
    "\n",
    "        \n",
    "\n",
    "\n",
    "\n",
    "    \n",
    "\n",
    "    "
   ]
  },
  {
   "cell_type": "code",
   "execution_count": 147,
   "metadata": {},
   "outputs": [],
   "source": [
    "clf=LogRegression(10000,0.00001)\n",
    "clf.fit(X_train, y_train)"
   ]
  },
  {
   "cell_type": "code",
   "execution_count": 148,
   "metadata": {},
   "outputs": [
    {
     "data": {
      "text/plain": "0.9995839169310181"
     },
     "execution_count": 148,
     "metadata": {},
     "output_type": "execute_result"
    }
   ],
   "source": [
    "clf.cost"
   ]
  },
  {
   "cell_type": "code",
   "execution_count": 149,
   "metadata": {},
   "outputs": [
    {
     "data": {
      "text/plain": "[0, 1, 0, 1, 0, 1, 1, 1, 1, 1, 0, 0, 0, 0, 1, 1, 1, 0, 1, 1, 1, 0, 1, 0, 1]"
     },
     "execution_count": 149,
     "metadata": {},
     "output_type": "execute_result"
    }
   ],
   "source": [
    "clf.predict(X_test)"
   ]
  },
  {
   "cell_type": "code",
   "execution_count": 150,
   "metadata": {},
   "outputs": [
    {
     "data": {
      "text/plain": "1.0"
     },
     "execution_count": 150,
     "metadata": {},
     "output_type": "execute_result"
    }
   ],
   "source": [
    "clf.score(X_test, y_test)"
   ]
  },
  {
   "cell_type": "code",
   "execution_count": 106,
   "metadata": {},
   "outputs": [
    {
     "data": {
      "text/plain": "array([0., 1., 0., 1., 0., 1., 1., 1., 1., 1., 0., 0., 0., 0., 1., 1., 1.,\n       0., 1., 1., 1., 0., 1., 0., 1.])"
     },
     "execution_count": 106,
     "metadata": {},
     "output_type": "execute_result"
    }
   ],
   "source": [
    "y_test"
   ]
  }
 ]
}