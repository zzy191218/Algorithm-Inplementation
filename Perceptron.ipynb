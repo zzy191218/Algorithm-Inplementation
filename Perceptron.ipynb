{
 "nbformat": 4,
 "nbformat_minor": 2,
 "metadata": {
  "language_info": {
   "name": "python",
   "codemirror_mode": {
    "name": "ipython",
    "version": 3
   }
  },
  "orig_nbformat": 2,
  "file_extension": ".py",
  "mimetype": "text/x-python",
  "name": "python",
  "npconvert_exporter": "python",
  "pygments_lexer": "ipython3",
  "version": 3
 },
 "cells": [
  {
   "cell_type": "code",
   "execution_count": 10,
   "metadata": {},
   "outputs": [],
   "source": [
    "import pandas as pd\n",
    "import numpy as np\n",
    "from sklearn.datasets import load_iris\n",
    "import matplotlib.pyplot as plt\n",
    "%matplotlib inline"
   ]
  },
  {
   "cell_type": "code",
   "execution_count": 12,
   "metadata": {},
   "outputs": [],
   "source": [
    "iris=load_iris()\n",
    "df=pd.DataFrame(iris.data, columns=iris.feature_names)\n",
    "y=iris.target"
   ]
  },
  {
   "cell_type": "code",
   "execution_count": 85,
   "metadata": {},
   "outputs": [],
   "source": [
    "class Model:\n",
    "    def __init__(self, number_features):\n",
    "        self.w=np.ones(number_features, dtype=np.float32)\n",
    "        self.b=0\n",
    "        self.l_rate=0.01\n",
    "\n",
    "    def sign(self, x, w, b):\n",
    "        y=np.dot(x,w)+b\n",
    "        return y   \n",
    "\n",
    "    def fit(self, X_train, Y_train):\n",
    "        \n",
    "        is_wrong=False\n",
    "        while not is_wrong:\n",
    "            wrong_count=0\n",
    "            for i in range(len(X_train)):\n",
    "                x=X_train[i]\n",
    "                y=Y_train[i]\n",
    "                if y*self.sign(x, self.w, self.b)<=0:\n",
    "                    self.w=self.w+self.l_rate*y*x\n",
    "                    self.b=self.b+self.l_rate*y\n",
    "\n",
    "                    wrong_count+=1\n",
    "            if wrong_count==0:\n",
    "                is_wrong=True\n",
    "        return print('Model is complete')\n",
    "\n",
    "\n",
    "    def score(self, X_test, Y_test):\n",
    "        right_count=0\n",
    "        \n",
    "        for i in range(len(X_test)):\n",
    "            x=X_test[i]\n",
    "            y=Y_test[i]\n",
    "            if y*self.sign(x, self.w, self.b)<=0:\n",
    "                right_count+=1\n",
    "        return right_count/len(X_test)"
   ]
  },
  {
   "cell_type": "code",
   "execution_count": 87,
   "metadata": {},
   "outputs": [
    {
     "name": "stdout",
     "output_type": "stream",
     "text": "Model is complete\n"
    }
   ],
   "source": [
    "X=df.values[:100, 0:2]\n",
    "y=y[:100]\n",
    "y=np.array([1 if i==1 else -1 for i in y])\n",
    "percep=Model(2)\n",
    "percep.fit(df.values[:100, 0:2], y)"
   ]
  },
  {
   "cell_type": "code",
   "execution_count": 88,
   "metadata": {},
   "outputs": [],
   "source": [
    "X_test=df.values[50:150, 0:2]\n",
    "y_test=iris.target[50:150]\n",
    "y_test=np.array([1 if i==1 else -1 for i in y_test])\n"
   ]
  },
  {
   "cell_type": "code",
   "execution_count": 89,
   "metadata": {},
   "outputs": [
    {
     "data": {
      "text/plain": "0.5"
     },
     "execution_count": 89,
     "metadata": {},
     "output_type": "execute_result"
    }
   ],
   "source": [
    "percep.score(X_test,y_test)"
   ]
  },
  {
   "cell_type": "code",
   "execution_count": null,
   "metadata": {},
   "outputs": [],
   "source": []
  }
 ]
}